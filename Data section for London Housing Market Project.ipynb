{
 "cells": [
  {
   "cell_type": "markdown",
   "metadata": {},
   "source": [
    "# Data Science Project on London Housing Market.\n",
    "\n",
    "## Business Problem Section.\n",
    "\n",
    "### Background\n",
    "\n",
    "According to Bloomberg News, the London Housing Market is in a rut. It is now facing a number of different headwinds, including the prospect of higher taxes and a warning from the Bank of England that U.K. home values could fall as much as 30 percent in the event of a disorderly exit from the European Union. More specifically, four overlooked cracks suggest that the London market may be in worse shape than many realize: hidden price falls, record-low sales, homebuilder exodus and tax hikes addressing overseas buyers of homes in England and Wales.\n",
    "\n",
    "Business Problem\n",
    "In this scenario, it is urgent to adopt machine learning tools in order to assist homebuyers clientele in London to make wise and effective decisions. As a result, the business problem we are currently posing is: how could we provide support to homebuyers clientele in to purchase a suitable real estate in London in this uncertain economic and financial scenario?\n",
    "\n",
    "To solve this business problem, we are going to cluster London neighborhoods in order to recommend venues and the current average price of real estate where homebuyers can make a real estate investment. We will recommend profitable venues according to amenities and essential facilities surrounding such venues i.e. elementary schools, high schools, hospitals & grocery stores."
   ]
  },
  {
   "cell_type": "markdown",
   "metadata": {},
   "source": [
    "## Data section\n",
    "\n",
    "Data on London properties and the relative price paid data were extracted from the HM Land Registry (http://landregistry.data.gov.uk/). The following fields comprise the address data included in Price Paid Data: Postcode; PAON Primary Addressable Object Name. Typically the house number or name; SAON Secondary Addressable Object Name. If there is a sub-building, for example, the building is divided into flats, there will be a SAON; Street; Locality; Town/City; District; County.\n",
    "\n",
    "To explore and target recommended locations across different venues according to the presence of amenities and essential facilities, we will access data through FourSquare API interface and arrange them as a dataframe for visualization. By merging data on London properties and the relative price paid data from the HM Land Registry and data on amenities and essential facilities surrounding such properties from FourSquare API interface, we will be able to recommend profitable real estate investments.\n",
    "\n",
    "## Methodology section\n",
    "\n",
    "The Methodology section will describe the main components of our analysis and predication system. The Methodology section comprises four stages:\n",
    "\n",
    "- Collect Inspection Data\n",
    "- Explore and Understand Data\n",
    "- Data preparation and preprocessing\n",
    "- Modeling\n",
    "\n",
    "### Collect Inspection Data\n",
    "After importing the necessary libraries, we download the data from the HM Land Registry website\n",
    "\n",
    "### Explore and Understand Data\n",
    "We read the dataset that we collected from the HM Land Registry website into a pandas' data frame and display the first five rows "
   ]
  },
  {
   "cell_type": "markdown",
   "metadata": {},
   "source": [
    "### Data preparation and preprocessing\n",
    "\n",
    "At this stage, we prepare our dataset for the modeling process, opting for the most suitable machine learning algorithm for our scope. Accordingly, we perform the following steps:\n",
    "\n",
    "- Rename the column names\n",
    "- Format the date column\n",
    "- Sort data by date of sale\n",
    "- Select data only for the city of London\n",
    "- Make a list of street names in London\n",
    "- Calculate the street-wise average price of the property\n",
    "- Read the street-wise coordinates into a data frame, eliminating recurring word London from individual names\n",
    "- Join the data to find the coordinates of locations which fit into client's budget\n",
    "- Plot recommended locations on London map along with current market prices"
   ]
  },
  {
   "cell_type": "code",
   "execution_count": null,
   "metadata": {},
   "outputs": [],
   "source": []
  }
 ],
 "metadata": {
  "kernelspec": {
   "display_name": "Python 3",
   "language": "python",
   "name": "python3"
  },
  "language_info": {
   "codemirror_mode": {
    "name": "ipython",
    "version": 3
   },
   "file_extension": ".py",
   "mimetype": "text/x-python",
   "name": "python",
   "nbconvert_exporter": "python",
   "pygments_lexer": "ipython3",
   "version": "3.7.2"
  }
 },
 "nbformat": 4,
 "nbformat_minor": 4
}
